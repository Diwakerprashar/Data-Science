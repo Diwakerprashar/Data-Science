{
 "cells": [
  {
   "cell_type": "markdown",
   "metadata": {},
   "source": [
    "ASSIGNMENT 2"
   ]
  },
  {
   "cell_type": "code",
   "execution_count": null,
   "metadata": {},
   "outputs": [],
   "source": [
    "# Q1. Write a Python program to convert temperatures to and from celsius,\n",
    "#fahrenheit. \n",
    "#[ Formula : c/5 = f-32/9 [ where c = temperature in celsius and f = temperature in\n",
    "#fahrenheit ]"
   ]
  },
  {
   "cell_type": "code",
   "execution_count": null,
   "metadata": {},
   "outputs": [],
   "source": [
    "val = input('Input c for celcius or f for fahrenheit: ')\n",
    "for i in range(1):\n",
    "    if(val== 'c'or val== 'C'):\n",
    "        C = eval(input(\"Enter temperature in celcius: \"))\n",
    "        f = ((C/5)*9 + 32)\n",
    "        print(f,'F')\n",
    "    elif(val== 'f' or val == 'F'):\n",
    "        F = eval(input('Enter temperature in Fahrenheit: '))\n",
    "        c = (((F-32)/9)*5)\n",
    "        print(c,'C')\n",
    "    else:\n",
    "        print('wrong temperature parameter')\n",
    "        "
   ]
  },
  {
   "cell_type": "code",
   "execution_count": null,
   "metadata": {},
   "outputs": [],
   "source": [
    "# Q2. Write a Python program to construct the following pattern, using a nested for\n",
    "#\"\"\"loop.\n",
    "#                    *\n",
    "#                    * *\n",
    "#                    * * *\n",
    "#                    * * * *\n",
    "#                    * * * * *\n",
    "#                    * * * *\n",
    "#                    * * *\n",
    "#                    * *\n",
    "#                    *"
   ]
  },
  {
   "cell_type": "code",
   "execution_count": null,
   "metadata": {},
   "outputs": [],
   "source": [
    "for i in range(5):\n",
    "    for k in range(i+1):\n",
    "        print('*',end=' ')\n",
    "    print()\n",
    "for j in range(4,0,-1):\n",
    "    for l in range(j):\n",
    "        print('*',end=' ')\n",
    "    print()"
   ]
  },
  {
   "cell_type": "code",
   "execution_count": null,
   "metadata": {},
   "outputs": [],
   "source": [
    "# Q3. Write a Python program to get the Fibonacci series between 0 to 50.\n",
    "\n",
    "# 1,1,2,3,5................"
   ]
  },
  {
   "cell_type": "code",
   "execution_count": null,
   "metadata": {},
   "outputs": [],
   "source": [
    "e = int(input('Enter end: '))\n",
    "lst = []\n",
    "\n",
    "for i in range(0,e+1):\n",
    "    \n",
    "    if(i==0):\n",
    "        i+=1\n",
    "    elif(i==1):\n",
    "        lst.append(1)\n",
    "    elif(i==2):\n",
    "        lst.append(1)\n",
    "    else:\n",
    "        next = (lst[i-2]+lst[i-3])\n",
    "        lst.append(next)\n",
    "    \n",
    "print(lst)"
   ]
  },
  {
   "cell_type": "code",
   "execution_count": null,
   "metadata": {},
   "outputs": [],
   "source": [
    "# Q4. Write a Python program which takes two digits m (row) and n (column) as\n",
    "# input and generates a two-dimensional array. The element value in the i-th row\n",
    "# and j-th column of the array should be i*j."
   ]
  },
  {
   "cell_type": "code",
   "execution_count": null,
   "metadata": {},
   "outputs": [],
   "source": [
    "m = int(input('Enter value of m: '))\n",
    "n = int(input('Enter value of n: '))\n",
    "array_2d = []\n",
    "\n",
    "for i in range(m):\n",
    "    inside = []\n",
    "    for j in range(n):\n",
    "        num = int(input('number: '))\n",
    "        inside.append(num)\n",
    "    array_2d.append(inside)\n",
    "\n",
    "print(array_2d)\n"
   ]
  },
  {
   "cell_type": "code",
   "execution_count": null,
   "metadata": {},
   "outputs": [],
   "source": [
    "# Write a Python program that accepts a string and calculate the number of digits and letters."
   ]
  },
  {
   "cell_type": "code",
   "execution_count": null,
   "metadata": {},
   "outputs": [],
   "source": [
    "string = input('Enter a string: ')\n",
    "counter = 0\n",
    "\n",
    "for i in range(len(string)):\n",
    "    counter+=1\n",
    "print('Number of alphabets in string are: ',counter)\n",
    "    "
   ]
  },
  {
   "cell_type": "code",
   "execution_count": null,
   "metadata": {},
   "outputs": [],
   "source": [
    "# Write a Python program to find numbers between 100 and 400 (both included) where each digit of a number is an even number.---\n",
    "\n",
    "# ----- The numbers obtained should be printed in a comma-separated sequence."
   ]
  },
  {
   "cell_type": "code",
   "execution_count": null,
   "metadata": {},
   "outputs": [],
   "source": [
    "lst = list(range(100,401))\n",
    "new=[]\n",
    "acceptable = []\n",
    "for i in range(len(lst)):\n",
    "    val = str(lst[i])\n",
    "    acceptable.append(val)\n",
    "#print(acceptable)\n",
    "\n",
    "for i in range(len(acceptable)):\n",
    "    for j in range(len(acceptable[i])):\n",
    "        number = int(acceptable[i][j])\n",
    "        #print(number,type(number))\n",
    "        #print(acceptable[i], ', j is : ',j,'is: ',type(acceptable[i][j]),acceptable[i][j])\n",
    "        \n",
    "        if((number == 1)):\n",
    "            #print(acceptable[i][j])\n",
    "            break\n",
    "        elif(number== 0):\n",
    "            #print(acceptable[i][j])\n",
    "            j+=1\n",
    "        \n",
    "        elif((number%2 == 0)):\n",
    "            #print('i & j: ',i,j,'no: ',acceptable[i][j])\n",
    "            \n",
    "            new.append(acceptable[i])\n",
    "            j+=1\n",
    "        \n",
    "        else:\n",
    "            break\n",
    "print(new)           "
   ]
  },
  {
   "cell_type": "code",
   "execution_count": null,
   "metadata": {},
   "outputs": [],
   "source": [
    "# Q11. Write a Python program to check whether an alphabet is a vowel or consonant"
   ]
  },
  {
   "cell_type": "code",
   "execution_count": null,
   "metadata": {},
   "outputs": [],
   "source": [
    "vowels = ['a','e','i','o','u','A','E','I','O','U']\n",
    "alpha = input('Input your Alphabet: ')\n",
    "for i in range(len(vowels)):\n",
    "    if(alpha==vowels[i]==True):\n",
    "        print('Alphabet is a vowel')\n",
    "print('Alphabet is a consonant')"
   ]
  },
  {
   "cell_type": "code",
   "execution_count": null,
   "metadata": {},
   "outputs": [],
   "source": [
    "# Q13. Write a Python program to check a triangle is equilateral, isosceles or\n",
    "#scalene.\n",
    "#Note :\n",
    "#An equilateral triangle is a triangle in which all three sides are equal.\n",
    "#A scalene triangle is a triangle that has three unequal sides.\n",
    "#An isosceles triangle is a triangle with (at least) two equal sides"
   ]
  },
  {
   "cell_type": "code",
   "execution_count": null,
   "metadata": {},
   "outputs": [],
   "source": [
    "side = []\n",
    "for i in range(3):\n",
    "    triangle = int(input('Enter side of triangle: ')) \n",
    "    side.append(triangle)\n",
    "\n",
    "for i in side:\n",
    "    if(side[0]!=side[1]!=side[2]!=side[0]):\n",
    "        print('scalen')\n",
    "        break\n",
    "        \n",
    "    else:\n",
    "        if(side[0]==side[1]):\n",
    "            if(side[1]==side[2]):\n",
    "                print('Triangle is Equilateral')\n",
    "                break\n",
    "            elif((side[1]==side[2]) or (side[0]==side[2])):\n",
    "                print('isoceles')\n",
    "                break\n",
    "            print('Isoceles')\n",
    "            break\n",
    "        elif((side[0]==side[2]) or (side[1]==side[2])):\n",
    "            print('isoceles')\n",
    "            break\n",
    "    "
   ]
  },
  {
   "cell_type": "code",
   "execution_count": null,
   "metadata": {},
   "outputs": [],
   "source": [
    "# Q15. Write a Python program to create the multiplication table of a number"
   ]
  },
  {
   "cell_type": "code",
   "execution_count": null,
   "metadata": {},
   "outputs": [],
   "source": [
    "n = int(input('Enter a number whose table you want to print: '))\n",
    "\n",
    "for i in range(1,11):\n",
    "    print(n,'*',i,' = ',n*i)\n",
    "    print()"
   ]
  },
  {
   "cell_type": "code",
   "execution_count": null,
   "metadata": {},
   "outputs": [],
   "source": [
    "# Q16. Write a Python program to construct the following pattern, using a nested\n",
    "#loop number.\n",
    "#Expected Output:\n",
    "#            1\n",
    "#            22\n",
    "#            333\n",
    "#            4444\n",
    "#            55555\n",
    "#            666666\n",
    "#            7777777\n",
    "#            88888888\n",
    "#            999999999"
   ]
  },
  {
   "cell_type": "code",
   "execution_count": 1,
   "metadata": {},
   "outputs": [
    {
     "name": "stdout",
     "output_type": "stream",
     "text": [
      "1\n",
      "22\n",
      "333\n",
      "4444\n",
      "55555\n",
      "666666\n",
      "7777777\n",
      "88888888\n",
      "999999999\n"
     ]
    }
   ],
   "source": [
    "for i in range(1,10):\n",
    "    for j in range(i):\n",
    "        print(i,end='')\n",
    "\n",
    "    print()"
   ]
  },
  {
   "cell_type": "code",
   "execution_count": null,
   "metadata": {},
   "outputs": [],
   "source": []
  }
 ],
 "metadata": {
  "kernelspec": {
   "display_name": "Python 3",
   "language": "python",
   "name": "python3"
  },
  "language_info": {
   "codemirror_mode": {
    "name": "ipython",
    "version": 3
   },
   "file_extension": ".py",
   "mimetype": "text/x-python",
   "name": "python",
   "nbconvert_exporter": "python",
   "pygments_lexer": "ipython3",
   "version": "3.7.3"
  }
 },
 "nbformat": 4,
 "nbformat_minor": 2
}
